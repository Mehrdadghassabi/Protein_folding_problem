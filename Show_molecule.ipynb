{
  "nbformat": 4,
  "nbformat_minor": 0,
  "metadata": {
    "colab": {
      "provenance": []
    },
    "kernelspec": {
      "name": "python3",
      "display_name": "Python 3"
    },
    "language_info": {
      "name": "python"
    }
  },
  "cells": [
    {
      "cell_type": "code",
      "execution_count": 3,
      "metadata": {
        "colab": {
          "base_uri": "https://localhost:8080/"
        },
        "id": "J8Gd3Go2TQxZ",
        "outputId": "6369501c-f60c-45d5-e0e0-f2a376dd8006"
      },
      "outputs": [
        {
          "output_type": "stream",
          "name": "stdout",
          "text": [
            "Requirement already satisfied: py3Dmol in /usr/local/lib/python3.10/dist-packages (2.0.4)\n"
          ]
        }
      ],
      "source": [
        "!pip3 install py3Dmol\n",
        "import py3Dmol"
      ]
    },
    {
      "cell_type": "code",
      "source": [
        "with open('your_molecule.pdb', 'r') as f:\n",
        "    pdb_data = f.read()\n",
        "\n",
        "# Create a 3Dmol view\n",
        "view = py3Dmol.view(width=800, height=400)\n",
        "\n",
        "# Add the molecule from the PDB data\n",
        "view.addModel(pdb_data, 'pdb')\n",
        "\n",
        "# Set the style and display options\n",
        "view.setStyle({'stick': {}})\n",
        "view.setBackgroundColor('white')\n",
        "view.zoomTo()\n",
        "\n",
        "# Show the 3D visualization\n",
        "view.show()"
      ],
      "metadata": {
        "colab": {
          "base_uri": "https://localhost:8080/",
          "height": 417
        },
        "id": "6OxUXr-8TmLx",
        "outputId": "15044c23-daec-4715-c37c-8c9e08bd99c8"
      },
      "execution_count": 5,
      "outputs": [
        {
          "output_type": "display_data",
          "data": {
            "application/3dmoljs_load.v0": "<div id=\"3dmolviewer_1709234485425259\"  style=\"position: relative; width: 800px; height: 400px;\">\n        <p id=\"3dmolwarning_1709234485425259\" style=\"background-color:#ffcccc;color:black\">You appear to be running in JupyterLab (or JavaScript failed to load for some other reason).  You need to install the 3dmol extension: <br>\n        <tt>jupyter labextension install jupyterlab_3dmol</tt></p>\n        </div>\n<script>\n\nvar loadScriptAsync = function(uri){\n  return new Promise((resolve, reject) => {\n    //this is to ignore the existence of requirejs amd\n    var savedexports, savedmodule;\n    if (typeof exports !== 'undefined') savedexports = exports;\n    else exports = {}\n    if (typeof module !== 'undefined') savedmodule = module;\n    else module = {}\n\n    var tag = document.createElement('script');\n    tag.src = uri;\n    tag.async = true;\n    tag.onload = () => {\n        exports = savedexports;\n        module = savedmodule;\n        resolve();\n    };\n  var firstScriptTag = document.getElementsByTagName('script')[0];\n  firstScriptTag.parentNode.insertBefore(tag, firstScriptTag);\n});\n};\n\nif(typeof $3Dmolpromise === 'undefined') {\n$3Dmolpromise = null;\n  $3Dmolpromise = loadScriptAsync('https://cdnjs.cloudflare.com/ajax/libs/3Dmol/2.0.4/3Dmol-min.js');\n}\n\nvar viewer_1709234485425259 = null;\nvar warn = document.getElementById(\"3dmolwarning_1709234485425259\");\nif(warn) {\n    warn.parentNode.removeChild(warn);\n}\n$3Dmolpromise.then(function() {\nviewer_1709234485425259 = $3Dmol.createViewer(document.getElementById(\"3dmolviewer_1709234485425259\"),{backgroundColor:\"white\"});\nviewer_1709234485425259.zoomTo();\n\tviewer_1709234485425259.addModel(\"ATOM      1  SD  Met A   1     209.537 230.412 272.538  1.00  0.00           S  \\nATOM      2  O   Met A   1     211.762 226.002 273.165  1.00  0.00           O  \\nATOM      3  N   Met A   1     209.009 225.849 273.147  1.00  0.00           N  \\nATOM      4  CB  Met A   1     209.439 228.073 274.074  1.00  0.00           C  \\nATOM      5  CA  Met A   1     209.631 227.146 272.864  1.00  0.00           C  \\nATOM      6  CG  Met A   1     210.110 229.446 273.967  1.00  0.00           C  \\nATOM      7  C   Met A   1     211.103 226.874 272.611  1.00  0.00           C  \\nATOM      8  CE  Met A   1     207.785 230.503 272.971  1.00  0.00           C  \\nATOM      9  O   Phe A   2     233.844 342.126 324.620  1.00  0.00           O  \\nATOM     10  N   Phe A   2     235.443 339.913 324.898  1.00  0.00           N  \\nATOM     11  CB  Phe A   2     233.890 339.196 323.140  1.00  0.00           C  \\nATOM     12  CA  Phe A   2     234.946 340.230 323.561  1.00  0.00           C  \\nATOM     13  CG  Phe A   2     233.682 339.144 321.644  1.00  0.00           C  \\nATOM     14  CD1 Phe A   2     232.729 339.964 321.063  1.00  0.00           C  \\nATOM     15  CD2 Phe A   2     234.450 338.277 320.883  1.00  0.00           C  \\nATOM     16  C   Phe A   2     234.374 341.635 323.631  1.00  0.00           C  \\nATOM     17  CE1 Phe A   2     232.537 339.916 319.683  1.00  0.00           C  \\nATOM     18  CE2 Phe A   2     234.258 338.229 319.503  1.00  0.00           C  \\nATOM     19  CZ2 Phe A   2     233.302 339.049 318.902  1.00  0.00           C  \\nATOM     20  O   Lys A   3      84.031 292.167 319.547  1.00  0.00           O  \\nATOM     21  N   Lys A   3      82.415 290.118 319.051  1.00  0.00           N  \\nATOM     22  NZ  Lys A   3      82.674 284.386 322.565  1.00  0.00           N  \\nATOM     23  CG  Lys A   3      82.406 287.908 321.142  1.00  0.00           C  \\nATOM     24  CB  Lys A   3      83.292 289.162 321.160  1.00  0.00           C  \\nATOM     25  CD  Lys A   3      83.006 286.724 321.904  1.00  0.00           C  \\nATOM     26  CA  Lys A   3      82.684 290.387 320.464  1.00  0.00           C  \\nATOM     27  CE  Lys A   3      82.091 285.502 321.828  1.00  0.00           C  \\nATOM     28  C   Lys A   3      83.571 291.612 320.539  1.00  0.00           C  \\nATOM     29  SG  Cys A   4     276.374 318.436 337.401  1.00  0.00           S  \\nATOM     30  OXT Cys A   4     276.993 317.686 333.836  1.00  0.00           O  \\nATOM     31  O   Cys A   4     274.774 318.078 334.092  1.00  0.00           O  \\nATOM     32  N   Cys A   4     275.810 320.833 334.131  1.00  0.00           N  \\nATOM     33  CA  Cys A   4     276.331 319.725 334.935  1.00  0.00           C  \\nATOM     34  CB  Cys A   4     275.782 319.809 336.361  1.00  0.00           C  \\nATOM     35  C   Cys A   4     275.937 318.433 334.243  1.00  0.00           C  \\nTER      36      Cys A   4                                                       \\nEND   \\n\",\"pdb\");\n\tviewer_1709234485425259.setStyle({\"stick\": {}});\n\tviewer_1709234485425259.setBackgroundColor(\"white\");\n\tviewer_1709234485425259.zoomTo();\nviewer_1709234485425259.render();\n});\n</script>",
            "text/html": [
              "<div id=\"3dmolviewer_1709234485425259\"  style=\"position: relative; width: 800px; height: 400px;\">\n",
              "        <p id=\"3dmolwarning_1709234485425259\" style=\"background-color:#ffcccc;color:black\">You appear to be running in JupyterLab (or JavaScript failed to load for some other reason).  You need to install the 3dmol extension: <br>\n",
              "        <tt>jupyter labextension install jupyterlab_3dmol</tt></p>\n",
              "        </div>\n",
              "<script>\n",
              "\n",
              "var loadScriptAsync = function(uri){\n",
              "  return new Promise((resolve, reject) => {\n",
              "    //this is to ignore the existence of requirejs amd\n",
              "    var savedexports, savedmodule;\n",
              "    if (typeof exports !== 'undefined') savedexports = exports;\n",
              "    else exports = {}\n",
              "    if (typeof module !== 'undefined') savedmodule = module;\n",
              "    else module = {}\n",
              "\n",
              "    var tag = document.createElement('script');\n",
              "    tag.src = uri;\n",
              "    tag.async = true;\n",
              "    tag.onload = () => {\n",
              "        exports = savedexports;\n",
              "        module = savedmodule;\n",
              "        resolve();\n",
              "    };\n",
              "  var firstScriptTag = document.getElementsByTagName('script')[0];\n",
              "  firstScriptTag.parentNode.insertBefore(tag, firstScriptTag);\n",
              "});\n",
              "};\n",
              "\n",
              "if(typeof $3Dmolpromise === 'undefined') {\n",
              "$3Dmolpromise = null;\n",
              "  $3Dmolpromise = loadScriptAsync('https://cdnjs.cloudflare.com/ajax/libs/3Dmol/2.0.4/3Dmol-min.js');\n",
              "}\n",
              "\n",
              "var viewer_1709234485425259 = null;\n",
              "var warn = document.getElementById(\"3dmolwarning_1709234485425259\");\n",
              "if(warn) {\n",
              "    warn.parentNode.removeChild(warn);\n",
              "}\n",
              "$3Dmolpromise.then(function() {\n",
              "viewer_1709234485425259 = $3Dmol.createViewer(document.getElementById(\"3dmolviewer_1709234485425259\"),{backgroundColor:\"white\"});\n",
              "viewer_1709234485425259.zoomTo();\n",
              "\tviewer_1709234485425259.addModel(\"ATOM      1  SD  Met A   1     209.537 230.412 272.538  1.00  0.00           S  \\nATOM      2  O   Met A   1     211.762 226.002 273.165  1.00  0.00           O  \\nATOM      3  N   Met A   1     209.009 225.849 273.147  1.00  0.00           N  \\nATOM      4  CB  Met A   1     209.439 228.073 274.074  1.00  0.00           C  \\nATOM      5  CA  Met A   1     209.631 227.146 272.864  1.00  0.00           C  \\nATOM      6  CG  Met A   1     210.110 229.446 273.967  1.00  0.00           C  \\nATOM      7  C   Met A   1     211.103 226.874 272.611  1.00  0.00           C  \\nATOM      8  CE  Met A   1     207.785 230.503 272.971  1.00  0.00           C  \\nATOM      9  O   Phe A   2     233.844 342.126 324.620  1.00  0.00           O  \\nATOM     10  N   Phe A   2     235.443 339.913 324.898  1.00  0.00           N  \\nATOM     11  CB  Phe A   2     233.890 339.196 323.140  1.00  0.00           C  \\nATOM     12  CA  Phe A   2     234.946 340.230 323.561  1.00  0.00           C  \\nATOM     13  CG  Phe A   2     233.682 339.144 321.644  1.00  0.00           C  \\nATOM     14  CD1 Phe A   2     232.729 339.964 321.063  1.00  0.00           C  \\nATOM     15  CD2 Phe A   2     234.450 338.277 320.883  1.00  0.00           C  \\nATOM     16  C   Phe A   2     234.374 341.635 323.631  1.00  0.00           C  \\nATOM     17  CE1 Phe A   2     232.537 339.916 319.683  1.00  0.00           C  \\nATOM     18  CE2 Phe A   2     234.258 338.229 319.503  1.00  0.00           C  \\nATOM     19  CZ2 Phe A   2     233.302 339.049 318.902  1.00  0.00           C  \\nATOM     20  O   Lys A   3      84.031 292.167 319.547  1.00  0.00           O  \\nATOM     21  N   Lys A   3      82.415 290.118 319.051  1.00  0.00           N  \\nATOM     22  NZ  Lys A   3      82.674 284.386 322.565  1.00  0.00           N  \\nATOM     23  CG  Lys A   3      82.406 287.908 321.142  1.00  0.00           C  \\nATOM     24  CB  Lys A   3      83.292 289.162 321.160  1.00  0.00           C  \\nATOM     25  CD  Lys A   3      83.006 286.724 321.904  1.00  0.00           C  \\nATOM     26  CA  Lys A   3      82.684 290.387 320.464  1.00  0.00           C  \\nATOM     27  CE  Lys A   3      82.091 285.502 321.828  1.00  0.00           C  \\nATOM     28  C   Lys A   3      83.571 291.612 320.539  1.00  0.00           C  \\nATOM     29  SG  Cys A   4     276.374 318.436 337.401  1.00  0.00           S  \\nATOM     30  OXT Cys A   4     276.993 317.686 333.836  1.00  0.00           O  \\nATOM     31  O   Cys A   4     274.774 318.078 334.092  1.00  0.00           O  \\nATOM     32  N   Cys A   4     275.810 320.833 334.131  1.00  0.00           N  \\nATOM     33  CA  Cys A   4     276.331 319.725 334.935  1.00  0.00           C  \\nATOM     34  CB  Cys A   4     275.782 319.809 336.361  1.00  0.00           C  \\nATOM     35  C   Cys A   4     275.937 318.433 334.243  1.00  0.00           C  \\nTER      36      Cys A   4                                                       \\nEND   \\n\",\"pdb\");\n",
              "\tviewer_1709234485425259.setStyle({\"stick\": {}});\n",
              "\tviewer_1709234485425259.setBackgroundColor(\"white\");\n",
              "\tviewer_1709234485425259.zoomTo();\n",
              "viewer_1709234485425259.render();\n",
              "});\n",
              "</script>"
            ]
          },
          "metadata": {}
        }
      ]
    }
  ]
}